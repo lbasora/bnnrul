{
 "cells": [
  {
   "cell_type": "markdown",
   "id": "14cbc2c4-8fc0-46a4-9cc6-ea892d21e072",
   "metadata": {},
   "source": [
    "## Example of training/testing using deterministic models with pytorch-lightning"
   ]
  },
  {
   "cell_type": "code",
   "execution_count": 1,
   "id": "bed5c73f-b6b1-4c51-9df0-2f386eb30b5c",
   "metadata": {},
   "outputs": [],
   "source": [
    "%load_ext lab_black"
   ]
  },
  {
   "cell_type": "code",
   "execution_count": 2,
   "id": "19c48013-9b21-4860-a2eb-9b08e4be8e3b",
   "metadata": {},
   "outputs": [],
   "source": [
    "import numpy as np\n",
    "import pandas as pd\n",
    "from pathlib import Path\n",
    "from types import SimpleNamespace\n",
    "import pytorch_lightning as pl\n",
    "from pytorch_lightning.callbacks import EarlyStopping, ModelCheckpoint\n",
    "from bnnrul.cmapss.dataset import CMAPSSDataModule\n",
    "from bnnrul.cmapss.models import CMAPSSModel, get_checkpoint"
   ]
  },
  {
   "cell_type": "code",
   "execution_count": 3,
   "id": "0249d348-81e9-4548-b0ac-d49231c65658",
   "metadata": {},
   "outputs": [],
   "source": [
    "args = SimpleNamespace(\n",
    "    data_path=\"../data/cmapss/\",\n",
    "    out_path=\"../results/cmapss/\",\n",
    "    scn=\"deterministic\",\n",
    "    net=\"linear\",\n",
    ")\n",
    "checkpoint_dir = Path(f\"{args.out_path}/{args.scn}/checkpoints/{args.net}\")"
   ]
  },
  {
   "cell_type": "code",
   "execution_count": 6,
   "id": "c3795895-0e94-4c47-8f3c-e7ec6ad0039e",
   "metadata": {
    "tags": []
   },
   "outputs": [
    {
     "name": "stderr",
     "output_type": "stream",
     "text": [
      "GPU available: True, used: True\n",
      "TPU available: False, using: 0 TPU cores\n",
      "IPU available: False, using: 0 IPUs\n",
      "Restoring states from the checkpoint path at ../results/cmapss/deterministic/checkpoints/linear/epoch=3-step=463.ckpt\n",
      "LOCAL_RANK: 0 - CUDA_VISIBLE_DEVICES: [0,1,2]\n",
      "Restored all states from the checkpoint file at ../results/cmapss/deterministic/checkpoints/linear/epoch=3-step=463.ckpt\n",
      "\n",
      "  | Name | Type   | Params\n",
      "--------------------------------\n",
      "0 | net  | Linear | 45.6 K\n",
      "--------------------------------\n",
      "45.6 K    Trainable params\n",
      "0         Non-trainable params\n",
      "45.6 K    Total params\n",
      "0.182     Total estimated model params size (MB)\n"
     ]
    },
    {
     "data": {
      "application/vnd.jupyter.widget-view+json": {
       "model_id": "",
       "version_major": 2,
       "version_minor": 0
      },
      "text/plain": [
       "Validation sanity check: 0it [00:00, ?it/s]"
      ]
     },
     "metadata": {},
     "output_type": "display_data"
    },
    {
     "data": {
      "application/vnd.jupyter.widget-view+json": {
       "model_id": "56856dfc49ef40088953782870560c48",
       "version_major": 2,
       "version_minor": 0
      },
      "text/plain": [
       "Training: 0it [00:00, ?it/s]"
      ]
     },
     "metadata": {},
     "output_type": "display_data"
    },
    {
     "data": {
      "application/vnd.jupyter.widget-view+json": {
       "model_id": "",
       "version_major": 2,
       "version_minor": 0
      },
      "text/plain": [
       "Validating: 0it [00:00, ?it/s]"
      ]
     },
     "metadata": {},
     "output_type": "display_data"
    }
   ],
   "source": [
    "# Just to illustrate. To properly train see scripts/cmapss_training.py\n",
    "data = CMAPSSDataModule(args.data_path, batch_size=10000)\n",
    "model = CMAPSSModel(data.win_length, data.n_features, args.net)\n",
    "\n",
    "checkpoint_file = get_checkpoint(checkpoint_dir)\n",
    "monitor = \"loss/val\"\n",
    "checkpoint_callback = ModelCheckpoint(dirpath=checkpoint_dir, monitor=monitor)\n",
    "earlystopping_callback = EarlyStopping(monitor=monitor, patience=20)\n",
    "\n",
    "trainer = pl.Trainer(\n",
    "    gpus=[0],\n",
    "    max_epochs=5,\n",
    "    log_every_n_steps=10,\n",
    "    resume_from_checkpoint=checkpoint_file,\n",
    "    logger=pl.loggers.TensorBoardLogger(\n",
    "        f\"{args.out_path}/{args.scn}/lightning_logs/{args.net}\"\n",
    "    ),\n",
    "    callbacks=[\n",
    "        checkpoint_callback,\n",
    "        earlystopping_callback,\n",
    "    ],\n",
    ")\n",
    "trainer.fit(model, data)"
   ]
  },
  {
   "cell_type": "code",
   "execution_count": 5,
   "id": "79eee8ca-d32b-4a2e-8bab-ffe11c945a68",
   "metadata": {},
   "outputs": [
    {
     "name": "stderr",
     "output_type": "stream",
     "text": [
      "GPU available: True, used: True\n",
      "TPU available: False, using: 0 TPU cores\n",
      "IPU available: False, using: 0 IPUs\n",
      "LOCAL_RANK: 0 - CUDA_VISIBLE_DEVICES: [0,1,2]\n"
     ]
    },
    {
     "data": {
      "application/vnd.jupyter.widget-view+json": {
       "model_id": "9791cfd5f79c4afbbd517f5861ac4b4d",
       "version_major": 2,
       "version_minor": 0
      },
      "text/plain": [
       "Testing: 0it [00:00, ?it/s]"
      ]
     },
     "metadata": {},
     "output_type": "display_data"
    },
    {
     "data": {
      "text/plain": [
       "[{'y_0': -20.67729949951172,\n",
       "  'y_hat0': 37.00532150268555,\n",
       "  'err_0': 72.58831787109375,\n",
       "  'y_1': -31.992835998535156,\n",
       "  'y_hat1': 37.00532531738281,\n",
       "  'err_1': 82.15648651123047}]"
      ]
     },
     "execution_count": 5,
     "metadata": {},
     "output_type": "execute_result"
    }
   ],
   "source": [
    "data = CMAPSSDataModule(args.data_path, batch_size=10000)\n",
    "model = CMAPSSModel.load_from_checkpoint(get_checkpoint(checkpoint_dir))\n",
    "trainer = pl.Trainer(\n",
    "    gpus=[0],\n",
    "    log_every_n_steps=10,\n",
    "    logger=pl.loggers.TensorBoardLogger(\n",
    "        f\"{args.out_path}/{args.scn}/lightning_logs/{args.net}\"\n",
    "    ),\n",
    ")\n",
    "trainer.test(model, data, verbose=False)"
   ]
  },
  {
   "cell_type": "code",
   "execution_count": null,
   "id": "c37aaa13-17b1-45dc-9510-a8388be55a65",
   "metadata": {},
   "outputs": [],
   "source": []
  }
 ],
 "metadata": {
  "kernelspec": {
   "display_name": "bnnrul",
   "language": "python",
   "name": "bnnrul"
  },
  "language_info": {
   "codemirror_mode": {
    "name": "ipython",
    "version": 3
   },
   "file_extension": ".py",
   "mimetype": "text/x-python",
   "name": "python",
   "nbconvert_exporter": "python",
   "pygments_lexer": "ipython3",
   "version": "3.9.12"
  }
 },
 "nbformat": 4,
 "nbformat_minor": 5
}
