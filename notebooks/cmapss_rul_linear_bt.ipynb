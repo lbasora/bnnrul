{
 "cells": [
  {
   "cell_type": "markdown",
   "id": "2a9fae58-129b-4e6e-b4ed-8d2187212a98",
   "metadata": {},
   "source": [
    "## Example of training/testing using BNN with bayesian-torch"
   ]
  },
  {
   "cell_type": "code",
   "execution_count": 2,
   "id": "bed5c73f-b6b1-4c51-9df0-2f386eb30b5c",
   "metadata": {},
   "outputs": [],
   "source": [
    "%load_ext lab_black"
   ]
  },
  {
   "cell_type": "code",
   "execution_count": 6,
   "id": "19c48013-9b21-4860-a2eb-9b08e4be8e3b",
   "metadata": {},
   "outputs": [],
   "source": [
    "import itertools\n",
    "from pathlib import Path\n",
    "from types import SimpleNamespace\n",
    "from functools import partial\n",
    "import matplotlib.pyplot as plt\n",
    "import numpy as np\n",
    "\n",
    "import torch\n",
    "from torch.utils.data import DataLoader\n",
    "\n",
    "from bayesian_torch.models.dnn_to_bnn import dnn_to_bnn, get_kl_loss\n",
    "\n",
    "from bnnrul.cmapss.dataset import CMAPSSDataModule\n",
    "from bnnrul.cmapss.models import CMAPSSModel"
   ]
  },
  {
   "cell_type": "code",
   "execution_count": 4,
   "id": "1a9266b9-9270-4dd6-b860-3e2289152fe0",
   "metadata": {},
   "outputs": [],
   "source": [
    "args = SimpleNamespace(\n",
    "    data_path=\"../data/cmapss\",\n",
    "    out_path=\"../results/cmapss\",\n",
    "    scn=\"bnn_bt\",\n",
    "    arch=\"linear\",\n",
    ")\n",
    "checkpoint_dir = Path(f\"{args.out_path}/{args.scn}/checkpoints/{args.arch}\")"
   ]
  },
  {
   "cell_type": "markdown",
   "id": "7254085a-06b6-4dff-8a49-5c9b6a6a6343",
   "metadata": {},
   "source": [
    "### Train"
   ]
  },
  {
   "cell_type": "code",
   "execution_count": 5,
   "id": "80aeda14-2a12-4d1c-8fc4-26924cc97ff8",
   "metadata": {},
   "outputs": [],
   "source": [
    "data = CMAPSSDataModule(args.data_path, batch_size=1000)\n",
    "train_dl = data.train_dataloader()"
   ]
  },
  {
   "cell_type": "code",
   "execution_count": 7,
   "id": "6068c68e-c373-456d-b43a-65dcb8b2c82a",
   "metadata": {},
   "outputs": [],
   "source": [
    "model = CMAPSSModel(data.win_length, data.n_features, args.arch)\n",
    "const_bnn_prior_parameters = {\n",
    "    \"prior_mu\": 0.0,\n",
    "    \"prior_sigma\": 1.0,\n",
    "    \"posterior_mu_init\": 0.0,\n",
    "    \"posterior_rho_init\": -3.0,\n",
    "    \"type\": \"Reparameterization\",  # Flipout or Reparameterization\n",
    "    \"moped_enable\": False,  # True to initialize mu/sigma from the pretrained dnn weights\n",
    "    \"moped_delta\": 0.5,\n",
    "}\n",
    "dnn_to_bnn(model, const_bnn_prior_parameters)"
   ]
  },
  {
   "cell_type": "code",
   "execution_count": 8,
   "id": "f92cd17d-f495-4ddb-8daa-fc1150eb5c56",
   "metadata": {},
   "outputs": [
    {
     "data": {
      "text/plain": [
       "CMAPSSModel(\n",
       "  (net): Linear(\n",
       "    (layers): Sequential(\n",
       "      (0): Flatten(start_dim=1, end_dim=-1)\n",
       "      (1): LinearReparameterization()\n",
       "      (2): Sigmoid()\n",
       "      (3): LinearReparameterization()\n",
       "      (4): Sigmoid()\n",
       "      (5): LinearReparameterization()\n",
       "      (6): Sigmoid()\n",
       "      (7): LinearReparameterization()\n",
       "      (8): Softplus(beta=1, threshold=20)\n",
       "    )\n",
       "  )\n",
       ")"
      ]
     },
     "execution_count": 8,
     "metadata": {},
     "output_type": "execute_result"
    }
   ],
   "source": [
    "model"
   ]
  },
  {
   "cell_type": "markdown",
   "id": "704f3e2e-8d47-41ce-b68e-99d5b2fb6f01",
   "metadata": {},
   "source": [
    "### Test"
   ]
  },
  {
   "cell_type": "code",
   "execution_count": 9,
   "id": "53c35cbd-f75a-435e-8b6e-57174ec56906",
   "metadata": {},
   "outputs": [],
   "source": [
    "data = CMAPSSDataModule(args.data_path, batch_size=1)\n",
    "test_dl = data.test_dataloader()"
   ]
  },
  {
   "cell_type": "code",
   "execution_count": 10,
   "id": "c5f4d47f-b47d-4e92-b6f1-2c36cc626e09",
   "metadata": {
    "tags": []
   },
   "outputs": [],
   "source": [
    "# Issue with loading state\n",
    "# bnn.load_state_dict(\n",
    "#     torch.load(f\"{checkpoint_dir}/bnn_state_dict_lr_{num_epochs}_epochs.pt\")\n",
    "# )"
   ]
  },
  {
   "cell_type": "code",
   "execution_count": null,
   "id": "14f7beda-140a-4d61-a122-088f6fd37b35",
   "metadata": {},
   "outputs": [],
   "source": []
  }
 ],
 "metadata": {
  "kernelspec": {
   "display_name": "bnnrul",
   "language": "python",
   "name": "bnnrul"
  },
  "language_info": {
   "codemirror_mode": {
    "name": "ipython",
    "version": 3
   },
   "file_extension": ".py",
   "mimetype": "text/x-python",
   "name": "python",
   "nbconvert_exporter": "python",
   "pygments_lexer": "ipython3",
   "version": "3.9.12"
  }
 },
 "nbformat": 4,
 "nbformat_minor": 5
}
