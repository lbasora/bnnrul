{
 "cells": [
  {
   "cell_type": "markdown",
   "id": "2a9fae58-129b-4e6e-b4ed-8d2187212a98",
   "metadata": {},
   "source": [
    "## Example of training/testing using BNN with bayesian-torch"
   ]
  },
  {
   "cell_type": "code",
   "execution_count": 1,
   "id": "bed5c73f-b6b1-4c51-9df0-2f386eb30b5c",
   "metadata": {},
   "outputs": [],
   "source": [
    "%load_ext lab_black"
   ]
  },
  {
   "cell_type": "code",
   "execution_count": 2,
   "id": "19c48013-9b21-4860-a2eb-9b08e4be8e3b",
   "metadata": {},
   "outputs": [],
   "source": [
    "from pathlib import Path\n",
    "from types import SimpleNamespace\n",
    "import pytorch_lightning as pl\n",
    "from pytorch_lightning.callbacks import EarlyStopping, ModelCheckpoint\n",
    "from bnnrul.cmapss.dataset import CMAPSSDataModule\n",
    "from bnnrul.cmapss.models import CMAPSSModel, CMAPSSModelBnn, get_checkpoint, TBLogger"
   ]
  },
  {
   "cell_type": "code",
   "execution_count": 3,
   "id": "1a9266b9-9270-4dd6-b860-3e2289152fe0",
   "metadata": {},
   "outputs": [],
   "source": [
    "args = SimpleNamespace(\n",
    "    data_path=\"../data/cmapss\",\n",
    "    out_path=\"../results/cmapss\",\n",
    "    scn=\"bnn_bt\",\n",
    "    net=\"linear\",\n",
    ")\n",
    "checkpoint_dir = Path(f\"{args.out_path}/{args.scn}/checkpoints/{args.net}\")\n",
    "logger = TBLogger(\n",
    "    f\"{args.out_path}/{args.scn}/lightning_logs/{args.net}\",\n",
    "    default_hp_metric=False,\n",
    ")"
   ]
  },
  {
   "cell_type": "markdown",
   "id": "7254085a-06b6-4dff-8a49-5c9b6a6a6343",
   "metadata": {},
   "source": [
    "### Train"
   ]
  },
  {
   "cell_type": "code",
   "execution_count": 4,
   "id": "80aeda14-2a12-4d1c-8fc4-26924cc97ff8",
   "metadata": {},
   "outputs": [],
   "source": [
    "data = CMAPSSDataModule(args.data_path, batch_size=1000)\n",
    "train_dl = data.train_dataloader()"
   ]
  },
  {
   "cell_type": "code",
   "execution_count": 5,
   "id": "6068c68e-c373-456d-b43a-65dcb8b2c82a",
   "metadata": {},
   "outputs": [
    {
     "data": {
      "text/plain": [
       "CMAPSSModelBnn(\n",
       "  (net): Linear(\n",
       "    (layers): Sequential(\n",
       "      (0): Flatten(start_dim=1, end_dim=-1)\n",
       "      (1): LinearReparameterization()\n",
       "      (2): Sigmoid()\n",
       "      (3): LinearReparameterization()\n",
       "      (4): Sigmoid()\n",
       "      (5): LinearReparameterization()\n",
       "      (6): Sigmoid()\n",
       "      (7): LinearReparameterization()\n",
       "      (8): Softplus(beta=1, threshold=20)\n",
       "    )\n",
       "  )\n",
       ")"
      ]
     },
     "execution_count": 5,
     "metadata": {},
     "output_type": "execute_result"
    }
   ],
   "source": [
    "const_bnn_prior_parameters = {\n",
    "    \"prior_mu\": 0.0,\n",
    "    \"prior_sigma\": 1.0,\n",
    "    \"posterior_mu_init\": 0.0,\n",
    "    \"posterior_rho_init\": -3.0,\n",
    "    \"type\": \"Reparameterization\",  # Flipout or Reparameterization\n",
    "    \"moped_enable\": False,  # True to initialize mu/sigma from the pretrained dnn weights\n",
    "    \"moped_delta\": 0.5,\n",
    "}\n",
    "bnn = CMAPSSModelBnn(\n",
    "    data.win_length,\n",
    "    data.n_features,\n",
    "    args.net,\n",
    "    const_bnn_prior_parameters,\n",
    "    num_mc_samples_elbo=10,\n",
    "    num_predictions=10,\n",
    ")\n",
    "bnn"
   ]
  },
  {
   "cell_type": "code",
   "execution_count": 6,
   "id": "55ce9c42-bad5-40f2-b162-aff4ad1e525f",
   "metadata": {},
   "outputs": [
    {
     "name": "stderr",
     "output_type": "stream",
     "text": [
      "GPU available: True, used: True\n",
      "TPU available: False, using: 0 TPU cores\n",
      "IPU available: False, using: 0 IPUs\n",
      "LOCAL_RANK: 0 - CUDA_VISIBLE_DEVICES: [0,1,2]\n",
      "Missing logger folder: ../results/cmapss/bnn_bt/lightning_logs/linear/default\n",
      "\n",
      "  | Name | Type   | Params\n",
      "--------------------------------\n",
      "0 | net  | Linear | 91.2 K\n",
      "--------------------------------\n",
      "91.2 K    Trainable params\n",
      "0         Non-trainable params\n",
      "91.2 K    Total params\n",
      "0.365     Total estimated model params size (MB)\n"
     ]
    },
    {
     "data": {
      "application/vnd.jupyter.widget-view+json": {
       "model_id": "",
       "version_major": 2,
       "version_minor": 0
      },
      "text/plain": [
       "Validation sanity check: 0it [00:00, ?it/s]"
      ]
     },
     "metadata": {},
     "output_type": "display_data"
    },
    {
     "data": {
      "application/vnd.jupyter.widget-view+json": {
       "model_id": "d22ff2ed10214df4a871297c52cbb23c",
       "version_major": 2,
       "version_minor": 0
      },
      "text/plain": [
       "Training: 0it [00:00, ?it/s]"
      ]
     },
     "metadata": {},
     "output_type": "display_data"
    },
    {
     "data": {
      "application/vnd.jupyter.widget-view+json": {
       "model_id": "",
       "version_major": 2,
       "version_minor": 0
      },
      "text/plain": [
       "Validating: 0it [00:00, ?it/s]"
      ]
     },
     "metadata": {},
     "output_type": "display_data"
    },
    {
     "data": {
      "application/vnd.jupyter.widget-view+json": {
       "model_id": "",
       "version_major": 2,
       "version_minor": 0
      },
      "text/plain": [
       "Validating: 0it [00:00, ?it/s]"
      ]
     },
     "metadata": {},
     "output_type": "display_data"
    },
    {
     "data": {
      "application/vnd.jupyter.widget-view+json": {
       "model_id": "",
       "version_major": 2,
       "version_minor": 0
      },
      "text/plain": [
       "Validating: 0it [00:00, ?it/s]"
      ]
     },
     "metadata": {},
     "output_type": "display_data"
    },
    {
     "data": {
      "application/vnd.jupyter.widget-view+json": {
       "model_id": "",
       "version_major": 2,
       "version_minor": 0
      },
      "text/plain": [
       "Validating: 0it [00:00, ?it/s]"
      ]
     },
     "metadata": {},
     "output_type": "display_data"
    },
    {
     "data": {
      "application/vnd.jupyter.widget-view+json": {
       "model_id": "",
       "version_major": 2,
       "version_minor": 0
      },
      "text/plain": [
       "Validating: 0it [00:00, ?it/s]"
      ]
     },
     "metadata": {},
     "output_type": "display_data"
    },
    {
     "data": {
      "application/vnd.jupyter.widget-view+json": {
       "model_id": "",
       "version_major": 2,
       "version_minor": 0
      },
      "text/plain": [
       "Validating: 0it [00:00, ?it/s]"
      ]
     },
     "metadata": {},
     "output_type": "display_data"
    },
    {
     "data": {
      "application/vnd.jupyter.widget-view+json": {
       "model_id": "",
       "version_major": 2,
       "version_minor": 0
      },
      "text/plain": [
       "Validating: 0it [00:00, ?it/s]"
      ]
     },
     "metadata": {},
     "output_type": "display_data"
    },
    {
     "data": {
      "application/vnd.jupyter.widget-view+json": {
       "model_id": "",
       "version_major": 2,
       "version_minor": 0
      },
      "text/plain": [
       "Validating: 0it [00:00, ?it/s]"
      ]
     },
     "metadata": {},
     "output_type": "display_data"
    },
    {
     "data": {
      "application/vnd.jupyter.widget-view+json": {
       "model_id": "",
       "version_major": 2,
       "version_minor": 0
      },
      "text/plain": [
       "Validating: 0it [00:00, ?it/s]"
      ]
     },
     "metadata": {},
     "output_type": "display_data"
    },
    {
     "data": {
      "application/vnd.jupyter.widget-view+json": {
       "model_id": "",
       "version_major": 2,
       "version_minor": 0
      },
      "text/plain": [
       "Validating: 0it [00:00, ?it/s]"
      ]
     },
     "metadata": {},
     "output_type": "display_data"
    },
    {
     "data": {
      "application/vnd.jupyter.widget-view+json": {
       "model_id": "",
       "version_major": 2,
       "version_minor": 0
      },
      "text/plain": [
       "Validating: 0it [00:00, ?it/s]"
      ]
     },
     "metadata": {},
     "output_type": "display_data"
    },
    {
     "data": {
      "application/vnd.jupyter.widget-view+json": {
       "model_id": "",
       "version_major": 2,
       "version_minor": 0
      },
      "text/plain": [
       "Validating: 0it [00:00, ?it/s]"
      ]
     },
     "metadata": {},
     "output_type": "display_data"
    }
   ],
   "source": [
    "checkpoint_file = get_checkpoint(checkpoint_dir)\n",
    "monitor = \"loss/val\"\n",
    "checkpoint_callback = ModelCheckpoint(dirpath=checkpoint_dir, monitor=monitor)\n",
    "earlystopping_callback = EarlyStopping(monitor=monitor, patience=20)\n",
    "\n",
    "trainer = pl.Trainer(\n",
    "    gpus=[0],\n",
    "    max_epochs=12,\n",
    "    log_every_n_steps=10,\n",
    "    resume_from_checkpoint=checkpoint_file,\n",
    "    logger=logger,\n",
    "    callbacks=[\n",
    "        checkpoint_callback,\n",
    "        earlystopping_callback,\n",
    "    ],\n",
    ")\n",
    "trainer.fit(bnn, data)"
   ]
  },
  {
   "cell_type": "markdown",
   "id": "704f3e2e-8d47-41ce-b68e-99d5b2fb6f01",
   "metadata": {},
   "source": [
    "### Test"
   ]
  },
  {
   "cell_type": "code",
   "execution_count": 7,
   "id": "53c35cbd-f75a-435e-8b6e-57174ec56906",
   "metadata": {},
   "outputs": [],
   "source": [
    "data = CMAPSSDataModule(args.data_path, batch_size=1)\n",
    "test_dl = data.test_dataloader()"
   ]
  },
  {
   "cell_type": "code",
   "execution_count": 8,
   "id": "88a0f6f0-c2d8-4175-ac85-6c6dfe06050e",
   "metadata": {},
   "outputs": [
    {
     "name": "stderr",
     "output_type": "stream",
     "text": [
      "GPU available: True, used: True\n",
      "TPU available: False, using: 0 TPU cores\n",
      "IPU available: False, using: 0 IPUs\n",
      "LOCAL_RANK: 0 - CUDA_VISIBLE_DEVICES: [0,1,2]\n"
     ]
    },
    {
     "data": {
      "application/vnd.jupyter.widget-view+json": {
       "model_id": "7b9f69e746504a9e8c8fcd6e2ffd6de0",
       "version_major": 2,
       "version_minor": 0
      },
      "text/plain": [
       "Testing: 0it [00:00, ?it/s]"
      ]
     },
     "metadata": {},
     "output_type": "display_data"
    },
    {
     "data": {
      "text/plain": [
       "[{'loss/test': 6788.51416015625,\n",
       "  'loss_mse/test': 6778.53564453125,\n",
       "  'loss_kl/test': 9.9784574508667}]"
      ]
     },
     "execution_count": 8,
     "metadata": {},
     "output_type": "execute_result"
    }
   ],
   "source": [
    "data = CMAPSSDataModule(args.data_path, batch_size=1000)\n",
    "bnn = CMAPSSModelBnn.load_from_checkpoint(\n",
    "    get_checkpoint(checkpoint_dir), num_predictions=10\n",
    ")\n",
    "trainer = pl.Trainer(\n",
    "    gpus=[0],\n",
    "    log_every_n_steps=10,\n",
    "    logger=logger,\n",
    ")\n",
    "trainer.test(bnn, data, verbose=False)"
   ]
  },
  {
   "cell_type": "code",
   "execution_count": null,
   "id": "c5f4d47f-b47d-4e92-b6f1-2c36cc626e09",
   "metadata": {
    "tags": []
   },
   "outputs": [],
   "source": []
  },
  {
   "cell_type": "code",
   "execution_count": null,
   "id": "14f7beda-140a-4d61-a122-088f6fd37b35",
   "metadata": {},
   "outputs": [],
   "source": []
  }
 ],
 "metadata": {
  "kernelspec": {
   "display_name": "bnnrul",
   "language": "python",
   "name": "bnnrul"
  },
  "language_info": {
   "codemirror_mode": {
    "name": "ipython",
    "version": 3
   },
   "file_extension": ".py",
   "mimetype": "text/x-python",
   "name": "python",
   "nbconvert_exporter": "python",
   "pygments_lexer": "ipython3",
   "version": "3.9.12"
  }
 },
 "nbformat": 4,
 "nbformat_minor": 5
}
