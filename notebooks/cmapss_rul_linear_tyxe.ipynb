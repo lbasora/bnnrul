{
 "cells": [
  {
   "cell_type": "markdown",
   "id": "2a9fae58-129b-4e6e-b4ed-8d2187212a98",
   "metadata": {},
   "source": [
    "## Example of training/testing using BNN with TyXe\n",
    "### Issues:\n",
    "#### 1) checkpointing (how to properly save/load models to be studied)\n",
    "#### 2) Integration with pytorch-lightning not clear."
   ]
  },
  {
   "cell_type": "code",
   "execution_count": 1,
   "id": "bed5c73f-b6b1-4c51-9df0-2f386eb30b5c",
   "metadata": {},
   "outputs": [],
   "source": [
    "%load_ext lab_black"
   ]
  },
  {
   "cell_type": "code",
   "execution_count": 2,
   "id": "19c48013-9b21-4860-a2eb-9b08e4be8e3b",
   "metadata": {},
   "outputs": [],
   "source": [
    "import itertools\n",
    "from pathlib import Path\n",
    "from types import SimpleNamespace\n",
    "from functools import partial\n",
    "import matplotlib.pyplot as plt\n",
    "import numpy as np\n",
    "\n",
    "import torch\n",
    "from torch.utils.data import DataLoader\n",
    "\n",
    "import pyro\n",
    "import pyro.distributions as dist\n",
    "import pyro.infer.autoguide as ag\n",
    "\n",
    "import tyxe\n",
    "\n",
    "from tqdm.auto import trange\n",
    "\n",
    "from bnnrul.cmapss.dataset import CMAPSSDataModule\n",
    "from bnnrul.cmapss.models import CMAPSSModel"
   ]
  },
  {
   "cell_type": "code",
   "execution_count": 3,
   "id": "1a9266b9-9270-4dd6-b860-3e2289152fe0",
   "metadata": {},
   "outputs": [],
   "source": [
    "args = SimpleNamespace(\n",
    "    data_path=\"../data/cmapss\",\n",
    "    out_path=\"../results/cmapss\",\n",
    "    scn=\"bnn_tyxe\",\n",
    "    arch=\"linear\",\n",
    ")\n",
    "checkpoint_dir = Path(f\"{args.out_path}/{args.scn}/checkpoints/{args.arch}\")"
   ]
  },
  {
   "cell_type": "markdown",
   "id": "7254085a-06b6-4dff-8a49-5c9b6a6a6343",
   "metadata": {},
   "source": [
    "### Train"
   ]
  },
  {
   "cell_type": "code",
   "execution_count": 4,
   "id": "80aeda14-2a12-4d1c-8fc4-26924cc97ff8",
   "metadata": {},
   "outputs": [],
   "source": [
    "data = CMAPSSDataModule(args.data_path, batch_size=1000)\n",
    "train_dl = data.train_dataloader()"
   ]
  },
  {
   "cell_type": "code",
   "execution_count": 5,
   "id": "676b2aa7-c670-4094-b4b1-1c8ffc58be6a",
   "metadata": {},
   "outputs": [],
   "source": [
    "pyro.set_rng_seed(42)\n",
    "USE_CUDA = torch.cuda.is_available()\n",
    "DEVICE = torch.device(\"cuda:0\") if USE_CUDA else torch.device(\"cpu\")"
   ]
  },
  {
   "cell_type": "code",
   "execution_count": 6,
   "id": "6068c68e-c373-456d-b43a-65dcb8b2c82a",
   "metadata": {},
   "outputs": [],
   "source": [
    "model = CMAPSSModel(data.win_length, data.n_features, args.arch).to(DEVICE)\n",
    "prior = tyxe.priors.IIDPrior(\n",
    "    dist.Normal(torch.tensor(0.0, device=DEVICE), torch.tensor(1.0, device=DEVICE))\n",
    ")\n",
    "likelihood = tyxe.likelihoods.HomoskedasticGaussian(len(train_dl), scale=0.5)\n",
    "guide = partial(tyxe.guides.AutoNormal, init_scale=0.5)\n",
    "bnn = tyxe.VariationalBNN(model, prior, likelihood, guide)"
   ]
  },
  {
   "cell_type": "code",
   "execution_count": null,
   "id": "3907cd52-b9e0-4940-9ec2-97ba2982ec47",
   "metadata": {},
   "outputs": [
    {
     "data": {
      "application/vnd.jupyter.widget-view+json": {
       "model_id": "919350f3bbbf4782b4c412e35f841409",
       "version_major": 2,
       "version_minor": 0
      },
      "text/plain": [
       "  0%|          | 0/1000 [00:00<?, ?it/s]"
      ]
     },
     "metadata": {},
     "output_type": "display_data"
    }
   ],
   "source": [
    "pyro.clear_param_store()\n",
    "optim = pyro.optim.Adam({\"lr\": 1e-3})\n",
    "num_epochs = 1000\n",
    "pbar = trange(num_epochs)\n",
    "elbos = []\n",
    "\n",
    "\n",
    "def callback(_i, _ii, e):\n",
    "    elbos.append(e / train_dl.batch_size)\n",
    "    pbar.update()\n",
    "    return False\n",
    "\n",
    "\n",
    "with tyxe.poutine.local_reparameterization():\n",
    "    bnn.fit(train_dl, optim, num_epochs, device=DEVICE, callback=callback)\n",
    "\n",
    "checkpoint_dir.mkdir(parents=True, exist_ok=True)\n",
    "torch.save(\n",
    "    bnn.net.state_dict(), f\"{checkpoint_dir}/bnn_state_dict_lr_{num_epochs}_epochs.pt\"\n",
    ")"
   ]
  },
  {
   "cell_type": "code",
   "execution_count": null,
   "id": "7c7445b3-a3f9-4321-ae44-9f63e7eaf308",
   "metadata": {},
   "outputs": [],
   "source": [
    "plt.yscale(\"log\")\n",
    "plt.plot(elbos)"
   ]
  },
  {
   "cell_type": "markdown",
   "id": "704f3e2e-8d47-41ce-b68e-99d5b2fb6f01",
   "metadata": {},
   "source": [
    "### Test"
   ]
  },
  {
   "cell_type": "code",
   "execution_count": null,
   "id": "53c35cbd-f75a-435e-8b6e-57174ec56906",
   "metadata": {},
   "outputs": [],
   "source": [
    "data = CMAPSSDataModule(args.data_path, batch_size=1)\n",
    "test_dl = data.test_dataloader()"
   ]
  },
  {
   "cell_type": "code",
   "execution_count": null,
   "id": "c5f4d47f-b47d-4e92-b6f1-2c36cc626e09",
   "metadata": {
    "tags": []
   },
   "outputs": [],
   "source": [
    "# Issue with loading state\n",
    "# bnn.load_state_dict(\n",
    "#     torch.load(f\"{checkpoint_dir}/bnn_state_dict_lr_{num_epochs}_epochs.pt\")\n",
    "# )"
   ]
  },
  {
   "cell_type": "code",
   "execution_count": null,
   "id": "319a814d-f45b-4b21-a282-41a5f7425072",
   "metadata": {
    "tags": []
   },
   "outputs": [],
   "source": [
    "error, loglh = 0.0, 0.0\n",
    "with tyxe.poutine.flipout():\n",
    "    for x, y in itertools.islice(test_dl, 5):\n",
    "        #     e, llh = bnn.evaluate(\n",
    "        #         x.to(DEVICE), y.to(DEVICE), num_predictions=20, reduction=\"mean\"\n",
    "        #     )\n",
    "        #     print(e, x.item(), y.item())\n",
    "        #     error += e\n",
    "        #     loglh += llh\n",
    "        m, sd = bnn.predict(x.to(DEVICE), num_predictions=100)\n",
    "        print(m.item(), sd.item(), y.item())\n",
    "# error, loglh"
   ]
  },
  {
   "cell_type": "code",
   "execution_count": null,
   "id": "7f4f62ce-9011-436d-9f77-c9a9cb4285d1",
   "metadata": {
    "tags": []
   },
   "outputs": [],
   "source": [
    "error, loglh = 0.0, 0.0\n",
    "with tyxe.poutine.local_reparameterization():\n",
    "    for x, y in itertools.islice(test_dl, 5):\n",
    "        #     e, llh = bnn.evaluate(\n",
    "        #         x.to(DEVICE), y.to(DEVICE), num_predictions=20, reduction=\"mean\"\n",
    "        #     )\n",
    "        #     print(e, x.item(), y.item())\n",
    "        #     error += e\n",
    "        #     loglh += llh\n",
    "        m, sd = bnn.predict(x.to(DEVICE), num_predictions=100)\n",
    "        print(m.item(), sd.item(), y.item())\n",
    "# error, loglh"
   ]
  },
  {
   "cell_type": "code",
   "execution_count": null,
   "id": "14f7beda-140a-4d61-a122-088f6fd37b35",
   "metadata": {},
   "outputs": [],
   "source": []
  }
 ],
 "metadata": {
  "kernelspec": {
   "display_name": "bnnrul",
   "language": "python",
   "name": "bnnrul"
  },
  "language_info": {
   "codemirror_mode": {
    "name": "ipython",
    "version": 3
   },
   "file_extension": ".py",
   "mimetype": "text/x-python",
   "name": "python",
   "nbconvert_exporter": "python",
   "pygments_lexer": "ipython3",
   "version": "3.9.12"
  }
 },
 "nbformat": 4,
 "nbformat_minor": 5
}
