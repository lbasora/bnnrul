{
 "cells": [
  {
   "cell_type": "code",
   "execution_count": 1,
   "id": "c5993fb2-faeb-41c7-a471-efe1f253ed64",
   "metadata": {},
   "outputs": [],
   "source": [
    "%load_ext lab_black\n",
    "import os\n",
    "import h5py\n",
    "import numpy as np\n",
    "import pandas as pd"
   ]
  },
  {
   "cell_type": "code",
   "execution_count": 7,
   "id": "53ed7dec-db3a-4af2-a15e-717a92704dd7",
   "metadata": {},
   "outputs": [
    {
     "name": "stdout",
     "output_type": "stream",
     "text": [
      "28G\t/data/data/nasa/turbofan/ncmapss/\n"
     ]
    }
   ],
   "source": [
    "!du -h /data/data/nasa/turbofan/ncmapss/"
   ]
  },
  {
   "cell_type": "code",
   "execution_count": 10,
   "id": "7b384521-53d5-4082-9d97-067a1c9692ef",
   "metadata": {},
   "outputs": [
    {
     "name": "stdout",
     "output_type": "stream",
     "text": [
      "2,7G\t/data/data/nasa/turbofan/ncmapss/N-CMAPSS_DS01-005.h5\n",
      "2,3G\t/data/data/nasa/turbofan/ncmapss/N-CMAPSS_DS02-006.h5\n",
      "3,5G\t/data/data/nasa/turbofan/ncmapss/N-CMAPSS_DS03-012.h5\n",
      "3,5G\t/data/data/nasa/turbofan/ncmapss/N-CMAPSS_DS04.h5\n",
      "2,5G\t/data/data/nasa/turbofan/ncmapss/N-CMAPSS_DS05.h5\n",
      "2,4G\t/data/data/nasa/turbofan/ncmapss/N-CMAPSS_DS06.h5\n",
      "2,6G\t/data/data/nasa/turbofan/ncmapss/N-CMAPSS_DS07.h5\n",
      "3,1G\t/data/data/nasa/turbofan/ncmapss/N-CMAPSS_DS08a-009.h5\n",
      "2,3G\t/data/data/nasa/turbofan/ncmapss/N-CMAPSS_DS08c-008.h5\n",
      "2,7G\t/data/data/nasa/turbofan/ncmapss/N-CMAPSS_DS08d-010.h5\n"
     ]
    }
   ],
   "source": [
    "!du -h /data/data/nasa/turbofan/ncmapss/*.h5"
   ]
  },
  {
   "cell_type": "code",
   "execution_count": 30,
   "id": "9673cad4-a47c-4a69-a414-2270ccfb7f01",
   "metadata": {
    "tags": []
   },
   "outputs": [
    {
     "name": "stdout",
     "output_type": "stream",
     "text": [
      "/data/data/nasa/turbofan/ncmapss/N-CMAPSS_DS01-005.h5 [1. 2. 3. 4. 5. 6.] [ 7.  8.  9. 10.]\n",
      "/data/data/nasa/turbofan/ncmapss/N-CMAPSS_DS02-006.h5 [ 2.  5. 10. 16. 18. 20.] [11. 14. 15.]\n",
      "/data/data/nasa/turbofan/ncmapss/N-CMAPSS_DS03-012.h5 [1. 2. 3. 4. 5. 6. 7. 8. 9.] [10. 11. 12. 13. 14. 15.]\n",
      "/data/data/nasa/turbofan/ncmapss/N-CMAPSS_DS04.h5 [1. 2. 3. 4. 5. 6.] [ 7.  8.  9. 10.]\n",
      "/data/data/nasa/turbofan/ncmapss/N-CMAPSS_DS05.h5 [1. 2. 3. 4. 5. 6.] [ 7.  8.  9. 10.]\n",
      "/data/data/nasa/turbofan/ncmapss/N-CMAPSS_DS06.h5 [1. 2. 3. 4. 5. 6.] [ 7.  8.  9. 10.]\n",
      "/data/data/nasa/turbofan/ncmapss/N-CMAPSS_DS07.h5 [1. 2. 3. 4. 5. 6.] [ 7.  8.  9. 10.]\n",
      "/data/data/nasa/turbofan/ncmapss/N-CMAPSS_DS08a-009.h5 [1. 2. 3. 4. 5. 6. 7. 8. 9.] [10. 11. 12. 13. 14. 15.]\n",
      "/data/data/nasa/turbofan/ncmapss/N-CMAPSS_DS08c-008.h5 [1. 2. 3. 4. 5. 6.] [ 7.  8.  9. 10.]\n",
      "#run to failure 60 39 99\n"
     ]
    }
   ],
   "source": [
    "files = !ls /data/data/nasa/turbofan/ncmapss/*.h5\n",
    "n_rtf_dev, n_rtf_test, n_rtf = 0, 0, 0\n",
    "for f in files[:-1]:\n",
    "    with h5py.File(f, 'r') as hdf:\n",
    "        A_var = np.array(hdf.get('A_var'))\n",
    "        A_var = list(np.array(A_var, dtype='U20'))\n",
    "        A_dev = np.array(hdf.get('A_dev'))\n",
    "        df_A_dev = DataFrame(data=A_dev, columns=A_var)\n",
    "        A_test = np.array(hdf.get('A_test'))\n",
    "        df_A_test = DataFrame(data=A_test, columns=A_var)\n",
    "        A = np.concatenate((A_dev, A_test), axis=0)\n",
    "        df_A = DataFrame(data=A, columns=A_var)\n",
    "        units_dev, units_test, units = np.unique(df_A_dev['unit']), np.unique(df_A_test['unit']), np.unique(df_A['unit'])\n",
    "        n_rtf_dev += len(units_dev)\n",
    "        n_rtf_test += len(units_test)\n",
    "        n_rtf += len(units)\n",
    "        print(f, units_dev, units_test)\n",
    "print(\"#run to failure\", n_rtf_dev, n_rtf_test, n_rtf)"
   ]
  }
 ],
 "metadata": {
  "kernelspec": {
   "display_name": "pt",
   "language": "python",
   "name": "pt"
  },
  "language_info": {
   "codemirror_mode": {
    "name": "ipython",
    "version": 3
   },
   "file_extension": ".py",
   "mimetype": "text/x-python",
   "name": "python",
   "nbconvert_exporter": "python",
   "pygments_lexer": "ipython3",
   "version": "3.9.10"
  }
 },
 "nbformat": 4,
 "nbformat_minor": 5
}
