{
 "cells": [
  {
   "cell_type": "code",
   "execution_count": 1,
   "id": "bed5c73f-b6b1-4c51-9df0-2f386eb30b5c",
   "metadata": {},
   "outputs": [],
   "source": [
    "%load_ext lab_black\n",
    "%matplotlib inline"
   ]
  },
  {
   "cell_type": "code",
   "execution_count": 2,
   "id": "19c48013-9b21-4860-a2eb-9b08e4be8e3b",
   "metadata": {},
   "outputs": [],
   "source": [
    "from functools import partial\n",
    "\n",
    "import matplotlib.pyplot as plt\n",
    "\n",
    "%matplotlib inline\n",
    "\n",
    "import numpy as np\n",
    "\n",
    "import torch\n",
    "from torch.utils.data import DataLoader\n",
    "\n",
    "import pyro\n",
    "import pyro.distributions as dist\n",
    "import pyro.infer.autoguide as ag\n",
    "\n",
    "import tyxe\n",
    "\n",
    "from tqdm.auto import trange\n",
    "\n",
    "from dataset import Dataset\n",
    "from models import Linear"
   ]
  },
  {
   "cell_type": "code",
   "execution_count": 3,
   "id": "78456137-aa8f-477c-afa3-4d537be350a5",
   "metadata": {},
   "outputs": [
    {
     "data": {
      "text/plain": [
       "(1, 30, 14)"
      ]
     },
     "execution_count": 3,
     "metadata": {},
     "output_type": "execute_result"
    }
   ],
   "source": [
    "train_ds = Dataset(\n",
    "    dataset=\"FD001\",\n",
    "    split=\"train\",\n",
    "    normalization=\"min-max\",\n",
    ")\n",
    "train_dl = DataLoader(\n",
    "    train_ds,\n",
    "    shuffle=True,\n",
    "    num_workers=12,\n",
    "    batch_size=len(train_ds),\n",
    "    pin_memory=True,\n",
    "    persistent_workers=True,\n",
    ")\n",
    "input_size = (train_ds.num_channels, train_ds.window, train_ds.num_features)\n",
    "input_size"
   ]
  },
  {
   "cell_type": "code",
   "execution_count": 4,
   "id": "676b2aa7-c670-4094-b4b1-1c8ffc58be6a",
   "metadata": {},
   "outputs": [],
   "source": [
    "pyro.set_rng_seed(42)\n",
    "USE_CUDA = torch.cuda.is_available()\n",
    "DEVICE = torch.device(\"cuda:0\") if USE_CUDA else torch.device(\"cpu\")"
   ]
  },
  {
   "cell_type": "code",
   "execution_count": 5,
   "id": "6068c68e-c373-456d-b43a-65dcb8b2c82a",
   "metadata": {},
   "outputs": [],
   "source": [
    "model = Linear(input_size).to(DEVICE)\n",
    "prior = tyxe.priors.IIDPrior(\n",
    "    dist.Normal(torch.tensor(0.0, device=DEVICE), torch.tensor(1.0, device=DEVICE))\n",
    ")\n",
    "likelihood = tyxe.likelihoods.HomoskedasticGaussian(len(train_dl), scale=0.5)\n",
    "guide = partial(tyxe.guides.AutoNormal, init_scale=0.5)\n",
    "bnn = tyxe.VariationalBNN(model, prior, likelihood, guide)"
   ]
  },
  {
   "cell_type": "code",
   "execution_count": 6,
   "id": "3907cd52-b9e0-4940-9ec2-97ba2982ec47",
   "metadata": {},
   "outputs": [
    {
     "data": {
      "application/vnd.jupyter.widget-view+json": {
       "model_id": "ae5b7f3741c34858b8bbc260bed775ce",
       "version_major": 2,
       "version_minor": 0
      },
      "text/plain": [
       "  0%|          | 0/25000 [00:00<?, ?it/s]"
      ]
     },
     "metadata": {},
     "output_type": "display_data"
    },
    {
     "name": "stderr",
     "output_type": "stream",
     "text": [
      "IOPub message rate exceeded.\n",
      "The Jupyter server will temporarily stop sending output\n",
      "to the client in order to avoid crashing it.\n",
      "To change this limit, set the config variable\n",
      "`--ServerApp.iopub_msg_rate_limit`.\n",
      "\n",
      "Current values:\n",
      "ServerApp.iopub_msg_rate_limit=1000.0 (msgs/sec)\n",
      "ServerApp.rate_limit_window=3.0 (secs)\n",
      "\n",
      "IOPub message rate exceeded.\n",
      "The Jupyter server will temporarily stop sending output\n",
      "to the client in order to avoid crashing it.\n",
      "To change this limit, set the config variable\n",
      "`--ServerApp.iopub_msg_rate_limit`.\n",
      "\n",
      "Current values:\n",
      "ServerApp.iopub_msg_rate_limit=1000.0 (msgs/sec)\n",
      "ServerApp.rate_limit_window=3.0 (secs)\n",
      "\n"
     ]
    }
   ],
   "source": [
    "pyro.clear_param_store()\n",
    "optim = pyro.optim.Adam({\"lr\": 1e-3})\n",
    "num_epochs = 25000\n",
    "pbar = trange(num_epochs)\n",
    "elbos = []\n",
    "\n",
    "\n",
    "def callback(_i, _ii, e):\n",
    "    elbos.append(e / train_dl.batch_size)\n",
    "    pbar.update()\n",
    "    return False\n",
    "\n",
    "\n",
    "with tyxe.poutine.local_reparameterization():\n",
    "    bnn.fit(train_dl, optim, num_epochs, device=DEVICE, callback=callback)\n",
    "\n",
    "torch.save(bnn.state_dict(), \"bnn_state_dict_lr_25000_epochs.pt\")"
   ]
  },
  {
   "cell_type": "code",
   "execution_count": 11,
   "id": "7c7445b3-a3f9-4321-ae44-9f63e7eaf308",
   "metadata": {},
   "outputs": [
    {
     "data": {
      "text/plain": [
       "[<matplotlib.lines.Line2D at 0x7f9b99ef4eb0>]"
      ]
     },
     "execution_count": 11,
     "metadata": {},
     "output_type": "execute_result"
    },
    {
     "data": {
      "image/png": "[encoded data removed]",
      "text/plain": [
       "<Figure size 432x288 with 1 Axes>"
      ]
     },
     "metadata": {
      "needs_background": "light"
     },
     "output_type": "display_data"
    }
   ],
   "source": [
    "plt.yscale(\"log\")\n",
    "plt.plot(elbos)"
   ]
  },
  {
   "cell_type": "code",
   "execution_count": 14,
   "id": "319a814d-f45b-4b21-a282-41a5f7425072",
   "metadata": {
    "tags": []
   },
   "outputs": [
    {
     "name": "stdout",
     "output_type": "stream",
     "text": [
      "122.80438995361328 17.117097854614258 136.0\n",
      "48.351009368896484 15.221590995788574 54.0\n",
      "128.9730682373047 16.938833236694336 87.0\n",
      "95.35614776611328 19.363683700561523 50.0\n",
      "75.40257263183594 20.194316864013672 48.0\n",
      "21.9544620513916 7.269348621368408 8.0\n",
      "123.49494171142578 17.627540588378906 66.0\n",
      "56.65050506591797 16.3779354095459 21.0\n",
      "144.26414489746094 11.52216911315918 142.0\n",
      "29.647132873535156 8.671462059020996 21.0\n",
      "24.769723892211914 8.11141586303711 7.0\n",
      "124.55364990234375 19.455060958862305 79.0\n",
      "122.33447265625 17.72694206237793 57.0\n",
      "140.71353149414062 12.181611061096191 137.0\n",
      "29.850120544433594 9.933247566223145 10.0\n",
      "110.37869262695312 20.098724365234375 95.0\n",
      "22.91398048400879 6.639124870300293 11.0\n",
      "34.10820388793945 9.497904777526855 38.0\n",
      "108.23058319091797 18.787900924682617 106.0\n",
      "132.0929412841797 15.992305755615234 137.0\n",
      "61.54743576049805 13.895459175109863 55.0\n",
      "42.70525360107422 12.23311710357666 50.0\n",
      "29.202978134155273 8.656302452087402 28.0\n",
      "139.56179809570312 12.617809295654297 121.0\n",
      "123.1716537475586 16.083894729614258 92.0\n",
      "36.07558822631836 10.419882774353027 85.0\n",
      "51.32009506225586 13.88839340209961 28.0\n",
      "134.9069061279297 16.319799423217773 119.0\n",
      "54.06365966796875 13.829068183898926 37.0\n",
      "139.8383026123047 12.086005210876465 128.0\n",
      "107.38208770751953 18.014263153076172 94.0\n",
      "94.56195831298828 23.06514549255371 82.0\n",
      "125.3675765991211 15.940401077270508 97.0\n",
      "30.18852996826172 8.887042045593262 28.0\n",
      "133.86407470703125 14.808286666870117 117.0\n",
      "121.36587524414062 18.01551055908203 82.0\n",
      "118.13470458984375 18.314477920532227 100.0\n",
      "114.72288513183594 19.431650161743164 96.0\n",
      "137.61627197265625 12.795109748840332 111.0\n",
      "123.15668487548828 17.29734230041504 89.0\n",
      "37.30667495727539 10.981461524963379 47.0\n",
      "104.60356903076172 19.143827438354492 103.0\n",
      "125.72599029541016 16.670690536499023 63.0\n",
      "32.35099411010742 8.490047454833984 26.0\n",
      "109.69813537597656 19.166345596313477 126.0\n",
      "121.26200103759766 17.74454116821289 93.0\n",
      "59.34050750732422 15.695418357849121 50.0\n",
      "19.269804000854492 5.243867874145508 10.0\n",
      "132.3683624267578 15.15080738067627 84.0\n",
      "130.7528533935547 13.040014266967773 91.0\n",
      "139.07630920410156 12.581775665283203 114.0\n",
      "91.06182098388672 20.117507934570312 72.0\n",
      "125.3570556640625 14.850653648376465 107.0\n",
      "124.18911743164062 17.2777156829834 109.0\n",
      "26.1358642578125 8.533820152282715 9.0\n",
      "137.80552673339844 14.367423057556152 131.0\n",
      "134.76039123535156 13.536955833435059 128.0\n",
      "145.23838806152344 10.558969497680664 107.0\n",
      "122.99609375 18.385168075561523 114.0\n",
      "111.73881530761719 21.84261703491211 95.0\n",
      "104.86476135253906 19.606964111328125 115.0\n",
      "33.188262939453125 9.253647804260254 28.0\n",
      "24.838945388793945 7.258407115936279 20.0\n",
      "22.526586532592773 6.829446315765381 14.0\n",
      "133.5556182861328 14.274599075317383 111.0\n",
      "137.17738342285156 14.718994140625 137.0\n",
      "134.9970703125 15.017742156982422 118.0\n",
      "25.258668899536133 7.502095699310303 16.0\n",
      "139.8048553466797 12.314268112182617 112.0\n",
      "67.18091583251953 18.210084915161133 114.0\n",
      "57.56039810180664 16.64933967590332 18.0\n",
      "143.8206329345703 10.672564506530762 113.0\n",
      "104.84117126464844 18.879241943359375 97.0\n",
      "79.74394989013672 22.295230865478516 59.0\n",
      "22.332111358642578 6.957090377807617 8.0\n",
      "27.381460189819336 8.68129825592041 21.0\n",
      "39.702980041503906 11.42965030670166 29.0\n",
      "136.4756622314453 14.073308944702148 145.0\n",
      "131.33901977539062 14.691547393798828 83.0\n",
      "34.03891372680664 9.544589042663574 20.0\n",
      "137.6169891357422 14.990715980529785 77.0\n",
      "25.466094970703125 7.695476055145264 20.0\n",
      "27.554433822631836 8.734219551086426 19.0\n",
      "131.38665771484375 17.696664810180664 113.0\n",
      "66.11772918701172 18.21236801147461 69.0\n",
      "80.15039825439453 19.825702667236328 59.0\n",
      "119.9137954711914 19.308195114135742 90.0\n",
      "125.3670654296875 16.496496200561523 135.0\n",
      "99.45616912841797 19.261960983276367 90.0\n",
      "135.81544494628906 15.253602981567383 97.0\n",
      "32.89923095703125 11.330754280090332 15.0\n",
      "137.4111328125 13.020665168762207 118.0\n",
      "73.88804626464844 17.656171798706055 58.0\n",
      "123.85090637207031 17.297874450683594 124.0\n",
      "104.98664093017578 21.20403480529785 91.0\n",
      "130.61383056640625 15.196822166442871 98.0\n",
      "142.10081481933594 12.575636863708496 116.0\n",
      "125.0826416015625 16.9833984375 115.0\n",
      "53.88705062866211 14.979805946350098 34.0\n",
      "22.349517822265625 6.513737201690674 8.0\n"
     ]
    }
   ],
   "source": [
    "test_ds = Dataset(\n",
    "    dataset=\"FD001\",\n",
    "    split=\"test\",\n",
    "    normalization=\"min-max\",\n",
    ")\n",
    "test_dl = DataLoader(\n",
    "    test_ds,\n",
    "    shuffle=False,\n",
    "    num_workers=2,\n",
    "    batch_size=1,\n",
    "    pin_memory=True,\n",
    "    persistent_workers=True,\n",
    ")\n",
    "error, loglh = 0.0, 0.0\n",
    "with tyxe.poutine.flipout():\n",
    "    for x, y in test_dl:\n",
    "        #     e, llh = bnn.evaluate(\n",
    "        #         x.to(DEVICE), y.to(DEVICE), num_predictions=20, reduction=\"mean\"\n",
    "        #     )\n",
    "        #     print(e, x.item(), y.item())\n",
    "        #     error += e\n",
    "        #     loglh += llh\n",
    "        m, sd = bnn.predict(x.to(DEVICE), num_predictions=100)\n",
    "        print(m.item(), sd.item(), y.item())\n",
    "# error, loglh"
   ]
  },
  {
   "cell_type": "code",
   "execution_count": 15,
   "id": "7f4f62ce-9011-436d-9f77-c9a9cb4285d1",
   "metadata": {
    "tags": []
   },
   "outputs": [
    {
     "name": "stdout",
     "output_type": "stream",
     "text": [
      "123.707763671875 16.69144630432129 136.0\n",
      "52.00895309448242 13.92691421508789 54.0\n",
      "132.649658203125 15.503509521484375 87.0\n",
      "93.4935302734375 19.893396377563477 50.0\n",
      "73.32384490966797 21.436540603637695 48.0\n",
      "22.440780639648438 7.888374328613281 8.0\n",
      "129.8683319091797 16.871736526489258 66.0\n",
      "55.29474639892578 15.253477096557617 21.0\n",
      "142.84312438964844 9.743876457214355 142.0\n",
      "30.06807518005371 8.113990783691406 21.0\n",
      "24.4930419921875 6.616991996765137 7.0\n",
      "128.0994110107422 14.808327674865723 79.0\n",
      "121.76078033447266 18.33889389038086 57.0\n",
      "138.04718017578125 12.60719108581543 137.0\n",
      "30.21173667907715 7.965590000152588 10.0\n",
      "100.70728302001953 22.017250061035156 95.0\n",
      "24.07122802734375 7.610478401184082 11.0\n",
      "34.6567268371582 10.584359169006348 38.0\n",
      "106.70845794677734 18.679723739624023 106.0\n",
      "136.28109741210938 14.254150390625 137.0\n",
      "61.82835006713867 18.2406063079834 55.0\n",
      "45.818992614746094 12.033040046691895 50.0\n",
      "31.96693992614746 10.735992431640625 28.0\n",
      "136.06558227539062 13.822367668151855 121.0\n",
      "125.56525421142578 15.980409622192383 92.0\n",
      "35.25653076171875 8.775495529174805 85.0\n",
      "50.82423782348633 14.93535327911377 28.0\n",
      "134.07571411132812 12.24658203125 119.0\n",
      "53.33180618286133 17.77027702331543 37.0\n",
      "141.8687286376953 11.785964965820312 128.0\n",
      "109.32830810546875 18.812599182128906 94.0\n",
      "87.39369201660156 21.231611251831055 82.0\n",
      "120.66603088378906 16.99928092956543 97.0\n",
      "28.272090911865234 7.9856767654418945 28.0\n",
      "133.978515625 13.893826484680176 117.0\n",
      "118.47002410888672 17.650344848632812 82.0\n",
      "114.49784851074219 18.251237869262695 100.0\n",
      "112.84215545654297 20.0432186126709 96.0\n",
      "136.5688018798828 12.892145156860352 111.0\n",
      "123.95111083984375 17.715618133544922 89.0\n",
      "34.98735427856445 11.038050651550293 47.0\n",
      "106.97395324707031 21.245880126953125 103.0\n",
      "125.94458770751953 18.096786499023438 63.0\n",
      "32.29652786254883 8.006031036376953 26.0\n",
      "114.2508773803711 20.004304885864258 126.0\n",
      "119.50751495361328 17.770553588867188 93.0\n",
      "55.61068344116211 14.427446365356445 50.0\n",
      "20.88216781616211 7.20511531829834 10.0\n",
      "134.3782958984375 15.227025032043457 84.0\n",
      "124.43025970458984 15.688652992248535 91.0\n",
      "137.74652099609375 11.77977180480957 114.0\n",
      "98.5399398803711 18.94228172302246 72.0\n",
      "125.1991958618164 19.943710327148438 107.0\n",
      "123.63177490234375 17.69852638244629 109.0\n",
      "25.57176971435547 7.232531547546387 9.0\n",
      "137.88449096679688 13.941640853881836 131.0\n",
      "134.38916015625 13.508774757385254 128.0\n",
      "144.7242889404297 11.732608795166016 107.0\n",
      "120.79171752929688 19.049570083618164 114.0\n",
      "108.65424346923828 20.691373825073242 95.0\n",
      "103.80679321289062 20.293405532836914 115.0\n",
      "34.80607986450195 11.037615776062012 28.0\n",
      "24.02620506286621 7.484799385070801 20.0\n",
      "22.71890640258789 6.867852687835693 14.0\n",
      "131.35665893554688 15.588173866271973 111.0\n",
      "137.03062438964844 12.4136962890625 137.0\n",
      "131.5735321044922 17.57637596130371 118.0\n",
      "26.178667068481445 8.309257507324219 16.0\n",
      "138.541748046875 13.153007507324219 112.0\n",
      "64.31676483154297 16.77878189086914 114.0\n",
      "54.46849060058594 16.194190979003906 18.0\n",
      "141.94981384277344 12.520441055297852 113.0\n",
      "104.15306091308594 21.670019149780273 97.0\n",
      "80.71602630615234 20.804288864135742 59.0\n",
      "22.200613021850586 6.583488464355469 8.0\n",
      "29.25734519958496 9.423590660095215 21.0\n",
      "39.81633377075195 11.616061210632324 29.0\n",
      "135.24969482421875 12.99884033203125 145.0\n",
      "133.08810424804688 15.025028228759766 83.0\n",
      "35.17936325073242 10.968789100646973 20.0\n",
      "135.59384155273438 12.978681564331055 77.0\n",
      "25.850677490234375 7.48028564453125 20.0\n",
      "27.173667907714844 7.795186519622803 19.0\n",
      "132.36917114257812 13.68514633178711 113.0\n",
      "65.85818481445312 16.486434936523438 69.0\n",
      "82.70634460449219 22.923860549926758 59.0\n",
      "116.72417449951172 20.357723236083984 90.0\n",
      "122.87266540527344 18.244325637817383 135.0\n",
      "102.96076965332031 19.23194122314453 90.0\n",
      "134.6963653564453 15.642868041992188 97.0\n",
      "33.10441207885742 11.314400672912598 15.0\n",
      "139.00794982910156 12.833345413208008 118.0\n",
      "72.76647186279297 20.621265411376953 58.0\n",
      "122.25794982910156 18.723350524902344 124.0\n",
      "103.7430648803711 22.80904197692871 91.0\n",
      "132.01377868652344 15.873769760131836 98.0\n",
      "139.19857788085938 13.642765998840332 116.0\n",
      "129.35508728027344 18.32927894592285 115.0\n",
      "52.55168914794922 14.17127513885498 34.0\n",
      "22.293787002563477 6.810806751251221 8.0\n"
     ]
    }
   ],
   "source": [
    "error, loglh = 0.0, 0.0\n",
    "with tyxe.poutine.local_reparameterization():\n",
    "    for x, y in test_dl:\n",
    "        #     e, llh = bnn.evaluate(\n",
    "        #         x.to(DEVICE), y.to(DEVICE), num_predictions=20, reduction=\"mean\"\n",
    "        #     )\n",
    "        #     print(e, x.item(), y.item())\n",
    "        #     error += e\n",
    "        #     loglh += llh\n",
    "        m, sd = bnn.predict(x.to(DEVICE), num_predictions=100)\n",
    "        print(m.item(), sd.item(), y.item())\n",
    "# error, loglh"
   ]
  },
  {
   "cell_type": "code",
   "execution_count": null,
   "id": "14f7beda-140a-4d61-a122-088f6fd37b35",
   "metadata": {},
   "outputs": [],
   "source": []
  }
 ],
 "metadata": {
  "kernelspec": {
   "display_name": "Python 3",
   "language": "python",
   "name": "python3"
  },
  "language_info": {
   "codemirror_mode": {
    "name": "ipython",
    "version": 3
   },
   "file_extension": ".py",
   "mimetype": "text/x-python",
   "name": "python",
   "nbconvert_exporter": "python",
   "pygments_lexer": "ipython3",
   "version": "3.9.4"
  }
 },
 "nbformat": 4,
 "nbformat_minor": 5
}
